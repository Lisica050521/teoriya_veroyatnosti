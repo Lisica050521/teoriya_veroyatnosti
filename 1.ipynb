{
 "cells": [
  {
   "attachments": {},
   "cell_type": "markdown",
   "metadata": {},
   "source": [
    "### Вероятность того, что стрелок попадет в мишень, выстрелив один раз, равна 0.8. Стрелок выстрелил 100 раз.\n",
    "\n",
    "* Найдите вероятность того, что стрелок попадет в цель ровно 85 раз.\n",
    "\n",
    "Используем формулу биномиального распределения: P(n)(X=k) = C(n,k) * p^k * q^(n-k)\n",
    "\n",
    "В данной задаче:\n",
    "\n",
    "p = 0.8 - вероятность попадания\n",
    "\n",
    "q = 1 - 0.8 = 0.2 обратная вероятность\n",
    "\n",
    "n = 100 выстрелов\n",
    "\n",
    "k = 85 раз\n",
    "\n",
    "\n",
    "1. Найдем сочтетания выборки k из n опытов"
   ]
  },
  {
   "cell_type": "code",
   "execution_count": 1,
   "metadata": {},
   "outputs": [],
   "source": [
    "from math import factorial\n",
    "\n",
    "c = factorial(100) / (factorial(85) * factorial(100 - 85))"
   ]
  },
  {
   "cell_type": "markdown",
   "metadata": {},
   "source": [
    "2.5333847134998864e+17\n",
    "\n",
    "2. Найдем p^k и q^(n-k)"
   ]
  },
  {
   "cell_type": "code",
   "execution_count": 2,
   "metadata": {},
   "outputs": [
    {
     "data": {
      "text/plain": [
       "(5.789604461865837e-09, 3.276800000000003e-11)"
      ]
     },
     "execution_count": 2,
     "metadata": {},
     "output_type": "execute_result"
    }
   ],
   "source": [
    "p = 0.8 ** 85\n",
    "q = 0.2 ** (100 - 85)\n",
    "p, q"
   ]
  },
  {
   "attachments": {},
   "cell_type": "markdown",
   "metadata": {},
   "source": [
    "3. Найдем вероятность того, что стрелок попадет 85 раз из 100"
   ]
  },
  {
   "cell_type": "code",
   "execution_count": 3,
   "metadata": {},
   "outputs": [
    {
     "data": {
      "text/plain": [
       "0.048061793700746556"
      ]
     },
     "execution_count": 3,
     "metadata": {},
     "output_type": "execute_result"
    }
   ],
   "source": [
    "c * p * q "
   ]
  },
  {
   "attachments": {},
   "cell_type": "markdown",
   "metadata": {},
   "source": [
    "Ответ: Вероятность попадания стрелком в мишени 85 раз из 100 = 4.8%"
   ]
  }
 ],
 "metadata": {
  "kernelspec": {
   "display_name": "Python 3",
   "language": "python",
   "name": "python3"
  },
  "language_info": {
   "codemirror_mode": {
    "name": "ipython",
    "version": 3
   },
   "file_extension": ".py",
   "mimetype": "text/x-python",
   "name": "python",
   "nbconvert_exporter": "python",
   "pygments_lexer": "ipython3",
   "version": "3.11.1"
  },
  "orig_nbformat": 4,
  "vscode": {
   "interpreter": {
    "hash": "13abbfdceadc784239a767a8ced6f5db7f614c87a4af3cb59b62cb4fa4f11ed4"
   }
  }
 },
 "nbformat": 4,
 "nbformat_minor": 2
}
