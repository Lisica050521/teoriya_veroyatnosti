{
 "cells": [
  {
   "attachments": {},
   "cell_type": "markdown",
   "metadata": {},
   "source": [
    "### Монету подбросили 144 раза. Какова вероятность, что орел выпадет ровно 70 раз?\n",
    "\n",
    "Используем биномиальное распределение, так как:\n",
    "\n",
    "вероятность выпадения орла - известна и она достаточно высока (50%)\n",
    "\n",
    "количество опытов не слишком высоко\n",
    "\n",
    "Формула биномиального распределения: P(n)(X=k) = C(n,k) * p^k * q^(n-k)\n",
    "\n",
    "В данной задаче:\n",
    "\n",
    "n = 144 - общее количество бросков\n",
    "\n",
    "k = 70 - выпадения орла\n",
    "\n",
    "p = 50% = 0.5 - вероятность выпадения орла\n",
    "\n",
    "q = 1 - 0.5 = 0.5 - обратная вероятность (вероятность выпадения решки)\n",
    "\n",
    "Найдем сочетания выборки k из n опытов"
   ]
  },
  {
   "cell_type": "code",
   "execution_count": 1,
   "metadata": {},
   "outputs": [
    {
     "data": {
      "text/plain": [
       "1.4007495090837087e+42"
      ]
     },
     "execution_count": 1,
     "metadata": {},
     "output_type": "execute_result"
    }
   ],
   "source": [
    "from math import factorial\n",
    "\n",
    "c = factorial(144) / (factorial(70) * factorial(144 - 70))\n",
    "c"
   ]
  },
  {
   "attachments": {},
   "cell_type": "markdown",
   "metadata": {},
   "source": [
    "2. Найдем p^k и q^(n-k)"
   ]
  },
  {
   "cell_type": "code",
   "execution_count": 2,
   "metadata": {},
   "outputs": [
    {
     "data": {
      "text/plain": [
       "(8.470329472543003e-22, 5.293955920339377e-23)"
      ]
     },
     "execution_count": 2,
     "metadata": {},
     "output_type": "execute_result"
    }
   ],
   "source": [
    "p = 0.5 ** 70\n",
    "q = 0.5 ** (144-70)\n",
    "p, q"
   ]
  },
  {
   "attachments": {},
   "cell_type": "markdown",
   "metadata": {},
   "source": [
    "3. Найдем вероятность того, что выпадет 70 раз орел из 144 бросков"
   ]
  },
  {
   "cell_type": "code",
   "execution_count": 3,
   "metadata": {},
   "outputs": [
    {
     "data": {
      "text/plain": [
       "0.06281178035144776"
      ]
     },
     "execution_count": 3,
     "metadata": {},
     "output_type": "execute_result"
    }
   ],
   "source": [
    "c * p * q"
   ]
  },
  {
   "attachments": {},
   "cell_type": "markdown",
   "metadata": {},
   "source": [
    "Ответ: Вероятность выпадения орла 70 раз из 144 бросков монетки = 6.28%"
   ]
  }
 ],
 "metadata": {
  "kernelspec": {
   "display_name": "Python 3",
   "language": "python",
   "name": "python3"
  },
  "language_info": {
   "codemirror_mode": {
    "name": "ipython",
    "version": 3
   },
   "file_extension": ".py",
   "mimetype": "text/x-python",
   "name": "python",
   "nbconvert_exporter": "python",
   "pygments_lexer": "ipython3",
   "version": "3.11.1"
  },
  "orig_nbformat": 4,
  "vscode": {
   "interpreter": {
    "hash": "13abbfdceadc784239a767a8ced6f5db7f614c87a4af3cb59b62cb4fa4f11ed4"
   }
  }
 },
 "nbformat": 4,
 "nbformat_minor": 2
}
