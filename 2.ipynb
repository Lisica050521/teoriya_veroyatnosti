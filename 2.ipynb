{
 "cells": [
  {
   "attachments": {},
   "cell_type": "markdown",
   "metadata": {},
   "source": [
    "### Вероятность того, что лампочка перегорит в течение первого дня эксплуатации, равна 0.0004. В жилом комплексе после ремонта в один день включили 5000 новых лампочек.\n",
    "\n",
    "Какова вероятность, что ни одна из них не перегорит в первый день? Какова вероятность, что перегорят ровно две?\n",
    "\n",
    "Для решения используем частный случай биномального распределения - формулу Пуассона, так как:\n",
    "\n",
    "- вероятность отдельного испытания слишком мала, менее 0.01%\n",
    "- Опытов слишком много, более 1000\n",
    "\n",
    "Формула Пуассона - P(m) = (lambda^m / m!) * e^(-lambda)\n",
    "\n",
    "Необходимо определить среднее количество поступления события (lambda = p * n)\n",
    "\n",
    "В данной задаче:\n",
    "\n",
    "p = 0.0004\n",
    "\n",
    "n = 5000"
   ]
  },
  {
   "cell_type": "code",
   "execution_count": 1,
   "metadata": {},
   "outputs": [
    {
     "data": {
      "text/plain": [
       "2.0"
      ]
     },
     "execution_count": 1,
     "metadata": {},
     "output_type": "execute_result"
    }
   ],
   "source": [
    "import math \n",
    "\n",
    "lambdaa = 0.0004 * 5000\n",
    "lambdaa"
   ]
  },
  {
   "attachments": {},
   "cell_type": "markdown",
   "metadata": {},
   "source": [
    "2. Необходимо подставить значение m, как 0 и как 2 соответственно.\n",
    "\n",
    "P(0) = (2^0 / 0!) * e^(-2)\n",
    "\n",
    "P(2) = (2^2 / 2!) * e^(-2)"
   ]
  },
  {
   "cell_type": "code",
   "execution_count": 2,
   "metadata": {},
   "outputs": [
    {
     "data": {
      "text/plain": [
       "(0.1353352832366127, 0.2706705664732254)"
      ]
     },
     "execution_count": 2,
     "metadata": {},
     "output_type": "execute_result"
    }
   ],
   "source": [
    "def p(lambdaa, m=0):\n",
    "    return ((lambdaa ** m) / math.factorial(m)) * (math.e ** -lambdaa)\n",
    "\n",
    "\n",
    "p_0 = p(lambdaa)\n",
    "p_2 = p(lambdaa, m=2)\n",
    "\n",
    "p_0, p_2"
   ]
  },
  {
   "attachments": {},
   "cell_type": "markdown",
   "metadata": {},
   "source": [
    "Ответ: Вероятность, что ни одна из лампочек не перегорит в первый же день = 13.5%, а того, что перегорит ровно 2 = 27%"
   ]
  }
 ],
 "metadata": {
  "kernelspec": {
   "display_name": "Python 3",
   "language": "python",
   "name": "python3"
  },
  "language_info": {
   "codemirror_mode": {
    "name": "ipython",
    "version": 3
   },
   "file_extension": ".py",
   "mimetype": "text/x-python",
   "name": "python",
   "nbconvert_exporter": "python",
   "pygments_lexer": "ipython3",
   "version": "3.11.1"
  },
  "orig_nbformat": 4,
  "vscode": {
   "interpreter": {
    "hash": "13abbfdceadc784239a767a8ced6f5db7f614c87a4af3cb59b62cb4fa4f11ed4"
   }
  }
 },
 "nbformat": 4,
 "nbformat_minor": 2
}
